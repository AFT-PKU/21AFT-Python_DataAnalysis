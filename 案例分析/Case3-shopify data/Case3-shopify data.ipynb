{
 "cells": [
  {
   "cell_type": "markdown",
   "metadata": {},
   "source": [
    "## Case3-shopify data\n",
    "\n",
    "There is one problem in this case: cohort analysis using shopify data\n",
    "\n",
    "In order to read the the `shopify_orders.parquet` file you will need to have the `pyarrow` library installed. The code cell below includes a `pip` instruction for installing this package. If you need to install it, please remove the comment in the cell below and execute the pip command.\n",
    "\n",
    "If after installing pyarrow you get errors about pyarrow not being available when trying to read the data, please restart your jupyter kernel and try loading the data again."
   ]
  },
  {
   "cell_type": "code",
   "execution_count": null,
   "metadata": {
    "execution": {
     "iopub.execute_input": "2021-10-01T23:07:58.521707Z",
     "iopub.status.busy": "2021-10-01T23:07:58.521398Z",
     "iopub.status.idle": "2021-10-01T23:07:58.526627Z",
     "shell.execute_reply": "2021-10-01T23:07:58.526062Z",
     "shell.execute_reply.started": "2021-10-01T23:07:58.521615Z"
    }
   },
   "outputs": [],
   "source": [
    "#%pip install --upgrade pyarrow"
   ]
  },
  {
   "cell_type": "code",
   "execution_count": 1,
   "metadata": {
    "execution": {
     "iopub.execute_input": "2021-10-01T23:07:58.527647Z",
     "iopub.status.busy": "2021-10-01T23:07:58.527432Z",
     "iopub.status.idle": "2021-10-01T23:07:58.905292Z",
     "shell.execute_reply": "2021-10-01T23:07:58.904879Z",
     "shell.execute_reply.started": "2021-10-01T23:07:58.527622Z"
    },
    "tags": []
   },
   "outputs": [
    {
     "name": "stdout",
     "output_type": "stream",
     "text": [
      "<class 'pandas.core.frame.DataFrame'>\n",
      "RangeIndex: 100436 entries, 0 to 100435\n",
      "Data columns (total 14 columns):\n",
      " #   Column             Non-Null Count   Dtype  \n",
      "---  ------             --------------   -----  \n",
      " 0   Day                100436 non-null  object \n",
      " 1   customer_type      100436 non-null  object \n",
      " 2   Customer ID        100436 non-null  int64  \n",
      " 3   orders             100436 non-null  int64  \n",
      " 4   total_sales        100436 non-null  float64\n",
      " 5   Returns            100436 non-null  float64\n",
      " 6   Ordered quantity   100436 non-null  int64  \n",
      " 7   Gross sales        100436 non-null  float64\n",
      " 8   Net sales          100436 non-null  float64\n",
      " 9   Shipping           100436 non-null  float64\n",
      " 10  Tax                100436 non-null  float64\n",
      " 11  Net quantity       100436 non-null  int64  \n",
      " 12  Returned quantity  100436 non-null  int64  \n",
      " 13  Discounts          100436 non-null  float64\n",
      "dtypes: float64(7), int64(5), object(2)\n",
      "memory usage: 10.7+ MB\n"
     ]
    },
    {
     "data": {
      "text/html": [
       "<div>\n",
       "<style scoped>\n",
       "    .dataframe tbody tr th:only-of-type {\n",
       "        vertical-align: middle;\n",
       "    }\n",
       "\n",
       "    .dataframe tbody tr th {\n",
       "        vertical-align: top;\n",
       "    }\n",
       "\n",
       "    .dataframe thead th {\n",
       "        text-align: right;\n",
       "    }\n",
       "</style>\n",
       "<table border=\"1\" class=\"dataframe\">\n",
       "  <thead>\n",
       "    <tr style=\"text-align: right;\">\n",
       "      <th></th>\n",
       "      <th>Day</th>\n",
       "      <th>customer_type</th>\n",
       "      <th>Customer ID</th>\n",
       "      <th>orders</th>\n",
       "      <th>total_sales</th>\n",
       "      <th>Returns</th>\n",
       "      <th>Ordered quantity</th>\n",
       "      <th>Gross sales</th>\n",
       "      <th>Net sales</th>\n",
       "      <th>Shipping</th>\n",
       "      <th>Tax</th>\n",
       "      <th>Net quantity</th>\n",
       "      <th>Returned quantity</th>\n",
       "      <th>Discounts</th>\n",
       "    </tr>\n",
       "  </thead>\n",
       "  <tbody>\n",
       "    <tr>\n",
       "      <th>0</th>\n",
       "      <td>2018-09-02</td>\n",
       "      <td>Returning</td>\n",
       "      <td>7609456</td>\n",
       "      <td>1</td>\n",
       "      <td>31.25</td>\n",
       "      <td>-0.0</td>\n",
       "      <td>7</td>\n",
       "      <td>27.21</td>\n",
       "      <td>27.21</td>\n",
       "      <td>4.04</td>\n",
       "      <td>0.00</td>\n",
       "      <td>7</td>\n",
       "      <td>0</td>\n",
       "      <td>-0.0</td>\n",
       "    </tr>\n",
       "    <tr>\n",
       "      <th>1</th>\n",
       "      <td>2017-07-23</td>\n",
       "      <td>Returning</td>\n",
       "      <td>4782112</td>\n",
       "      <td>1</td>\n",
       "      <td>152.75</td>\n",
       "      <td>-0.0</td>\n",
       "      <td>2</td>\n",
       "      <td>134.77</td>\n",
       "      <td>134.77</td>\n",
       "      <td>0.00</td>\n",
       "      <td>17.98</td>\n",
       "      <td>2</td>\n",
       "      <td>0</td>\n",
       "      <td>-0.0</td>\n",
       "    </tr>\n",
       "    <tr>\n",
       "      <th>2</th>\n",
       "      <td>2018-02-25</td>\n",
       "      <td>Returning</td>\n",
       "      <td>5245146</td>\n",
       "      <td>1</td>\n",
       "      <td>10.25</td>\n",
       "      <td>-0.0</td>\n",
       "      <td>2</td>\n",
       "      <td>10.25</td>\n",
       "      <td>10.25</td>\n",
       "      <td>0.00</td>\n",
       "      <td>0.00</td>\n",
       "      <td>2</td>\n",
       "      <td>0</td>\n",
       "      <td>-0.0</td>\n",
       "    </tr>\n",
       "    <tr>\n",
       "      <th>3</th>\n",
       "      <td>2020-08-09</td>\n",
       "      <td>Returning</td>\n",
       "      <td>7033470</td>\n",
       "      <td>1</td>\n",
       "      <td>1149.84</td>\n",
       "      <td>-0.0</td>\n",
       "      <td>7</td>\n",
       "      <td>1014.65</td>\n",
       "      <td>1014.65</td>\n",
       "      <td>0.00</td>\n",
       "      <td>135.19</td>\n",
       "      <td>7</td>\n",
       "      <td>0</td>\n",
       "      <td>-0.0</td>\n",
       "    </tr>\n",
       "    <tr>\n",
       "      <th>4</th>\n",
       "      <td>2020-06-16</td>\n",
       "      <td>Returning</td>\n",
       "      <td>7560082</td>\n",
       "      <td>1</td>\n",
       "      <td>0.00</td>\n",
       "      <td>-0.0</td>\n",
       "      <td>5</td>\n",
       "      <td>0.00</td>\n",
       "      <td>0.00</td>\n",
       "      <td>0.00</td>\n",
       "      <td>0.00</td>\n",
       "      <td>5</td>\n",
       "      <td>0</td>\n",
       "      <td>-0.0</td>\n",
       "    </tr>\n",
       "  </tbody>\n",
       "</table>\n",
       "</div>"
      ],
      "text/plain": [
       "          Day customer_type  Customer ID  orders  total_sales  Returns  \\\n",
       "0  2018-09-02     Returning      7609456       1        31.25     -0.0   \n",
       "1  2017-07-23     Returning      4782112       1       152.75     -0.0   \n",
       "2  2018-02-25     Returning      5245146       1        10.25     -0.0   \n",
       "3  2020-08-09     Returning      7033470       1      1149.84     -0.0   \n",
       "4  2020-06-16     Returning      7560082       1         0.00     -0.0   \n",
       "\n",
       "   Ordered quantity  Gross sales  Net sales  Shipping     Tax  Net quantity  \\\n",
       "0                 7        27.21      27.21      4.04    0.00             7   \n",
       "1                 2       134.77     134.77      0.00   17.98             2   \n",
       "2                 2        10.25      10.25      0.00    0.00             2   \n",
       "3                 7      1014.65    1014.65      0.00  135.19             7   \n",
       "4                 5         0.00       0.00      0.00    0.00             5   \n",
       "\n",
       "   Returned quantity  Discounts  \n",
       "0                  0       -0.0  \n",
       "1                  0       -0.0  \n",
       "2                  0       -0.0  \n",
       "3                  0       -0.0  \n",
       "4                  0       -0.0  "
      ]
     },
     "execution_count": 1,
     "metadata": {},
     "output_type": "execute_result"
    }
   ],
   "source": [
    "import pandas as pd\n",
    "\n",
    "orders = pd.read_parquet(\"shopify_orders.parquet\")\n",
    "orders.info()\n",
    "orders.head(20)"
   ]
  },
  {
   "cell_type": "markdown",
   "metadata": {
    "slideshow": {
     "slide_type": "subslide"
    }
   },
   "source": [
    "**Definition:** A customer’s cohort is the month in which a customer placed\n",
    "their first order\n",
    "\n",
    "The customer type column indicates whether order was placed by a new or returning customer"
   ]
  },
  {
   "cell_type": "markdown",
   "metadata": {
    "slideshow": {
     "slide_type": "subslide"
    }
   },
   "source": [
    "We now describe the *want* for the exercise, which we ask you to complete\n",
    "\n",
    "**Want**: Compute the monthly total number of orders, total sales, and\n",
    "total quantity separated by customer cohort and customer type\n",
    "\n",
    "Read that carefully one more time…"
   ]
  },
  {
   "cell_type": "markdown",
   "metadata": {
    "slideshow": {
     "slide_type": "subslide"
    }
   },
   "source": [
    "### Extended Exercise\n",
    "\n",
    "Using the reshape and `groupby` tools you have learned, apply the want\n",
    "operator described above\n",
    "\n",
    "See below for advice on how to proceed"
   ]
  },
  {
   "cell_type": "markdown",
   "metadata": {
    "slideshow": {
     "slide_type": "subslide"
    }
   },
   "source": [
    "When you are finished, you should have something that looks like this:\n",
    "\n",
    "<img src=\"shopify_cohort_answer.png\" style=\"\">\n",
    "  "
   ]
  },
  {
   "cell_type": "markdown",
   "metadata": {
    "slideshow": {
     "slide_type": "subslide"
    }
   },
   "source": [
    "A few notes on the table above:\n",
    "\n",
    "1. Your actual output will be much bigger. This is just to give you an idea of what it might look like\n",
    "1. The numbers you produce should actually be the same as what are included in this table… Index into your answer and compare what you have with this table to verify your progress\n",
    "1. The labels will not have \"Month-year\" by default -- they will be numerical dates like `2016-07-31`. This is ok. The changing to \"Month-year\" representation is optional"
   ]
  },
  {
   "cell_type": "markdown",
   "metadata": {
    "slideshow": {
     "slide_type": "subslide"
    }
   },
   "source": [
    "Now, how to do it?\n",
    "\n",
    "There is more than one way to code this, but here are some suggested\n",
    "steps.\n",
    "\n",
    "1. Convert the `Day` column to have a `datetime` `dtype` instead of object (Hint: use the `pd.to_datetime` function)\n",
    "1. Add a new column that specifies the date associated with each\n",
    "  customer’s `\"First-time\"` order\n",
    "  - Hint 1: You can do this with a combination of `groupby` and\n",
    "    `merge`\n",
    "  - Hint 2: `customer_type` is always one of `Returning` and\n",
    "    `First-time`  \n",
    "  - Hint 3: Some customers don’t have a\n",
    "    `customer_type == \"First-time\"` entry. You will need to set the\n",
    "    value for these users to some date that precedes the dates in the\n",
    "    sample. After adding valid data back into `orders` DataFrame,\n",
    "    you can identify which customers don’t have a `\"First-Time\"`\n",
    "    entry by checking for missing data in the new column.  \n",
    "1. You’ll need to group by 3 things  \n",
    "1. You can apply one of the built-in aggregation functions to the GroupBy\n",
    "1. After doing the aggregation, you’ll need to use your reshaping skills to\n",
    "  move things to the right place in rows and columns\n",
    "\n",
    "\n",
    "Good luck!\n",
    "\n",
    "> NOTE at the very end of my code, I ran the following to get the dates to appear in a human readable way\n",
    "> ```\n",
    ">     .rename(columns=lambda x: x.strftime(\"%B-%y\"))\n",
    ">     .rename(index=lambda x: x.strftime(\"%B-%y\"), level=\"cohort\")\n",
    "> ```"
   ]
  },
  {
   "cell_type": "code",
   "execution_count": null,
   "metadata": {},
   "outputs": [],
   "source": [
    "solution = ...\n",
    "\n",
    "months = [\"July-16\", \"August-16\", \"September-16\"]\n",
    "solution.loc[pd.IndexSlice[:, :, months], months]"
   ]
  }
 ],
 "metadata": {
  "kernelspec": {
   "display_name": "Python 3",
   "language": "python",
   "name": "python3"
  },
  "language_info": {
   "codemirror_mode": {
    "name": "ipython",
    "version": 3
   },
   "file_extension": ".py",
   "mimetype": "text/x-python",
   "name": "python",
   "nbconvert_exporter": "python",
   "pygments_lexer": "ipython3",
   "version": "3.8.8"
  }
 },
 "nbformat": 4,
 "nbformat_minor": 2
}
